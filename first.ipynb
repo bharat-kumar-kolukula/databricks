{
 "cells": [
  {
   "cell_type": "code",
   "execution_count": 0,
   "metadata": {
    "application/vnd.databricks.v1+cell": {
     "cellMetadata": {
      "byteLimit": 2048000,
      "rowLimit": 10000
     },
     "inputWidgets": {},
     "nuid": "b8323339-53d9-4d37-a2da-07b8d85b7638",
     "showTitle": false,
     "tableResultSettingsMap": {},
     "title": ""
    }
   },
   "outputs": [],
   "source": [
    "print(\"This is a git integrated notebook\")"
   ]
  },
  {
   "cell_type": "markdown",
   "metadata": {
    "application/vnd.databricks.v1+cell": {
     "cellMetadata": {},
     "inputWidgets": {},
     "nuid": "d9d9c3c5-cf3a-491d-9adf-287417124e4e",
     "showTitle": false,
     "tableResultSettingsMap": {},
     "title": ""
    }
   },
   "source": [
    "databricks auth login --host <workspace-url>\n",
    "\n",
    "databricks auth login --host https://dbc-99510b43-f14c.cloud.databricks.com/\n",
    "\n",
    "databricks auth token --host https://dbc-99510b43-f14c.cloud.databricks.com/\n",
    "databricks auth token -p Bharat Kumar Kolukula\n",
    "databricks auth token --host https://dbc-99510b43-f14c.cloud.databricks.com/ -p Bharat Kumar Kolukula\n",
    "databricks auth profiles"
   ]
  }
 ],
 "metadata": {
  "application/vnd.databricks.v1+notebook": {
   "computePreferences": {
    "hardware": {
     "accelerator": null,
     "gpuPoolId": null,
     "memory": null
    }
   },
   "dashboards": [],
   "environmentMetadata": {
    "base_environment": "",
    "environment_version": "2"
   },
   "inputWidgetPreferences": null,
   "language": "python",
   "notebookMetadata": {
    "pythonIndentUnit": 4
   },
   "notebookName": "first",
   "widgets": {}
  },
  "language_info": {
   "name": "python"
  }
 },
 "nbformat": 4,
 "nbformat_minor": 0
}
